{
 "cells": [
  {
   "cell_type": "code",
   "execution_count": null,
   "metadata": {},
   "outputs": [
    {
     "name": "stdout",
     "output_type": "stream",
     "text": [
      "1275.7285395\n",
      "None\n"
     ]
    }
   ],
   "source": [
    "#task 1\n",
    "def ounces(a):\n",
    "    return(a*28.3495231)\n",
    "grams = float(input())\n",
    "print (ounces(grams))"
   ]
  },
  {
   "cell_type": "code",
   "execution_count": null,
   "metadata": {},
   "outputs": [
    {
     "name": "stdout",
     "output_type": "stream",
     "text": [
      "7.222222222222222\n",
      "None\n"
     ]
    }
   ],
   "source": [
    "#TASK 2 \n",
    "def farengheit(x):\n",
    "    print((5 / 9) * (x-32))\n",
    "C=float(input())\n",
    "print(farengheit(C))"
   ]
  },
  {
   "cell_type": "code",
   "execution_count": 8,
   "metadata": {},
   "outputs": [
    {
     "name": "stdout",
     "output_type": "stream",
     "text": [
      "(23, 12)\n"
     ]
    }
   ],
   "source": [
    "#task 3\n",
    "def solve(x, y):\n",
    "    for rabbits in range(x + 1):\n",
    "        chickens = x - rabbits\n",
    "        if (chickens*2 + rabbits*4) == y:\n",
    "            return chickens, rabbits\n",
    "    return \"this task cannot be solved\"\n",
    "\n",
    "x = int(input(\"Heads: \"))\n",
    "y = int(input(\"Legs: \"))\n",
    "\n",
    "print(solve(x, y))\n",
    "\n",
    "        "
   ]
  },
  {
   "cell_type": "code",
   "execution_count": null,
   "metadata": {},
   "outputs": [
    {
     "name": "stdout",
     "output_type": "stream",
     "text": [
      "[13, 7]\n"
     ]
    }
   ],
   "source": [
    "#task 4\n",
    "def filter_numbers(p):\n",
    "    if p < 2:\n",
    "        return False\n",
    "    for i in range(2, p):\n",
    "        if p % i == 0:\n",
    "            return False\n",
    "    return True\n",
    "def prime(a):\n",
    "    return [x for x in a if filter_numbers(x)]\n",
    "\n",
    "a = list(map(int, input(\"Numbers seperated by space: \").split()))\n",
    "print(prime(a))"
   ]
  },
  {
   "cell_type": "code",
   "execution_count": null,
   "metadata": {},
   "outputs": [],
   "source": [
    "#task 5\n",
    "from itertools import permutations\n",
    "\n",
    "def to_permatuate(word):\n",
    "    for i in permutations(word):\n",
    "        print(''.join(i))\n",
    "\n",
    "word = input(\"Enter a word: \")\n",
    "\n",
    "to_permatuate(word)"
   ]
  },
  {
   "cell_type": "code",
   "execution_count": null,
   "metadata": {},
   "outputs": [],
   "source": [
    "#task 6\n",
    "def word_reverse(words):\n",
    "    splitted_list_words = words.split()\n",
    "    reversed_words = ' '.join(reversed(splitted_list_words))\n",
    "    return reversed_words\n",
    "\n",
    "words = input(\"Enter your word: \")\n",
    "\n",
    "print(word_reverse(words))"
   ]
  },
  {
   "cell_type": "code",
   "execution_count": null,
   "metadata": {},
   "outputs": [],
   "source": [
    "#task 7\n",
    "def has_33(nums):\n",
    "    for i in range(len(nums) - 1):\n",
    "        if nums[i] == 3 and nums[i + 1] == 3: return True\n",
    "    return False\n",
    "\n",
    "print(has_33([1, 3, 3]))\n",
    "print(has_33([1, 3, 1, 3]))\n",
    "print(has_33([3, 1, 3]))"
   ]
  },
  {
   "cell_type": "code",
   "execution_count": null,
   "metadata": {},
   "outputs": [],
   "source": [
    "#task 8\n",
    "def spy_game(nums):\n",
    "    a = [0, 0, 7]\n",
    "    i = 0\n",
    "\n",
    "    for num in nums:\n",
    "        if num == a[i]: i += 1\n",
    "        if i == len(a): return True\n",
    "    return False\n",
    "\n",
    "print(spy_game([1,2,4,0,0,7,5]))\n",
    "print(spy_game([1,0,2,4,0,5,7]))\n",
    "print(spy_game([1,7,2,0,4,5,0]))\n"
   ]
  },
  {
   "cell_type": "code",
   "execution_count": null,
   "metadata": {},
   "outputs": [
    {
     "name": "stdout",
     "output_type": "stream",
     "text": [
      "4186.666666666667\n"
     ]
    }
   ],
   "source": [
    "#task 9\n",
    "def area (x):\n",
    "    return(4/3)*3.14*x**3\n",
    "a=float(input())\n",
    "print(area(a))"
   ]
  },
  {
   "cell_type": "code",
   "execution_count": null,
   "metadata": {},
   "outputs": [],
   "source": [
    "#task 10\n",
    "def unique_value(a):\n",
    "    b = []\n",
    "    for el in a:\n",
    "        if el not in b: b.append(el)\n",
    "    print(b)\n",
    "list = [1, 1, 3, 3, 2, 2, 2, 4, 5, 9, 9]\n",
    "\n",
    "unique_value(list)"
   ]
  },
  {
   "cell_type": "code",
   "execution_count": null,
   "metadata": {},
   "outputs": [],
   "source": [
    "#task 11\n",
    "def palindrome_checker(element):\n",
    "    reversed_e = element[::-1]\n",
    "    if reversed_e == element:\n",
    "        return True\n",
    "    return False\n",
    "\n",
    "word_1 = \"madam\"\n",
    "word_2 = \"sayat\"\n",
    "\n",
    "print(palindrome_checker(word_1))\n",
    "print(palindrome_checker(word_2))"
   ]
  },
  {
   "cell_type": "code",
   "execution_count": null,
   "metadata": {},
   "outputs": [],
   "source": [
    "#task 12\n",
    "def histogram(a):\n",
    "    for el in a:\n",
    "        for i in range(el):\n",
    "            print('*', end = \"\")\n",
    "        print()\n",
    "\n",
    "list = [4, 9, 7]\n",
    "\n",
    "histogram(list)"
   ]
  },
  {
   "cell_type": "code",
   "execution_count": null,
   "metadata": {},
   "outputs": [],
   "source": [
    "#task 13\n",
    "import random\n",
    "\n",
    "def number_guess():\n",
    "    name = input(\"Hello! What is your name?\\n\")\n",
    "    print(f\"\\nWell, {name}, I am thinking of a number between 1 and 20.\\nTake a guess\")\n",
    "    \n",
    "    guesses = 0\n",
    "    my_number = random.randint(1, 20)\n",
    "    \n",
    "    while True:\n",
    "        guessing_number = int(input())\n",
    "        guesses += 1\n",
    "        \n",
    "        if my_number == guessing_number:\n",
    "            print(f\"Good job, KBTU! You guessed my number in {guesses} guesses!\")\n",
    "            break\n",
    "        elif my_number > guessing_number: print(\"\\nYour guess is too low.\")\n",
    "        else: print(\"\\nYour guess is too high.\")\n",
    "        \n",
    "        print(\"Take a guess.\")\n",
    "\n",
    "number_guess()"
   ]
  },
  {
   "cell_type": "code",
   "execution_count": null,
   "metadata": {},
   "outputs": [],
   "source": [
    "import math\n",
    "import random\n",
    "from itertools import permutations\n",
    "\n",
    "def to_ounces(x):\n",
    "    return 28.3495231 * x\n",
    "\n",
    "def to_celsius(x):\n",
    "    return (5 / 9) * (x - 32)\n",
    "\n",
    "def solve(heads, legs):\n",
    "    for rabbits in range(heads + 1):\n",
    "        chickens = heads - rabbits\n",
    "        if (chickens * 2 + rabbits * 4) == legs:\n",
    "            return chickens, rabbits\n",
    "    return \"this task cannot be solved\"\n",
    "\n",
    "def filter_numbers(p):\n",
    "    if p < 2:\n",
    "        return False\n",
    "    for i in range(2, p):\n",
    "        if p % i == 0:\n",
    "            return False\n",
    "    return True\n",
    "\n",
    "def filter_prime(a):\n",
    "    return [num for num in a if filter_numbers(num)]\n",
    "\n",
    "def to_permutate(word):\n",
    "    for i in permutations(word):\n",
    "        print(''.join(i))\n",
    "\n",
    "def word_reverse(words):\n",
    "    splitted_list_words = words.split()\n",
    "    return ' '.join(reversed(splitted_list_words))\n",
    "\n",
    "def has_33(nums):\n",
    "    for i in range(len(nums) - 1):\n",
    "        if nums[i] == 3 and nums[i + 1] == 3:\n",
    "            return True\n",
    "    return False\n",
    "\n",
    "def spy_game(nums):\n",
    "    a = [0, 0, 7]\n",
    "    i = 0\n",
    "    for num in nums:\n",
    "        if num == a[i]:\n",
    "            i += 1\n",
    "        if i == len(a):\n",
    "            return True\n",
    "    return False\n",
    "\n",
    "def sphere_volume_calculator(r):\n",
    "    return 4 * math.pi * r ** 3 / 3\n",
    "\n",
    "def palindrome_checker(element):\n",
    "    return element == element[::-1]\n",
    "\n",
    "def histogram(a):\n",
    "    for el in a:\n",
    "        print('*' * el)\n",
    "\n",
    "def number_guess():\n",
    "    name = input(\"Hello! What is your name?\\n\")\n",
    "    print(f\"\\nWell, {name}, I am thinking of a number between 1 and 20.\\nTake a guess\")\n",
    "    \n",
    "    guesses = 0\n",
    "    my_number = random.randint(1, 20)\n",
    "    \n",
    "    while True:\n",
    "        guessing_number = int(input())\n",
    "        guesses += 1\n",
    "        \n",
    "        if my_number == guessing_number:\n",
    "            print(f\"Good job, {name}! You guessed my number in {guesses} guesses!\")\n",
    "            break\n",
    "        elif my_number > guessing_number:\n",
    "            print(\"\\nYour guess is too low.\")\n",
    "        else:\n",
    "            print(\"\\nYour guess is too high.\")\n",
    "        \n",
    "        print(\"Take a guess.\")\n",
    "\n",
    "if _name_ == \"_main_\":\n",
    "    grams = float(input(\"Grams: \"))\n",
    "    print(\"In ounces:\", to_ounces(grams))\n",
    "\n",
    "    print(\"In Celsius:\", to_celsius(330))\n",
    "\n",
    "    heads = int(input(\"Heads: \"))\n",
    "    legs = int(input(\"Legs: \"))\n",
    "    print(solve(heads, legs))\n",
    "\n",
    "    a = list(map(int, input(\"Numbers separated by space: \").split()))\n",
    "    print(filter_prime(a))\n",
    "\n",
    "    word = input(\"Enter a word: \")\n",
    "    to_permutate(word)\n",
    "\n",
    "    words = input(\"Enter your sentence: \")\n",
    "    print(word_reverse(words))\n",
    "\n",
    "    print(has_33([1, 3, 3]))\n",
    "    print(has_33([1, 3, 1, 3]))\n",
    "    print(has_33([3, 1, 3]))\n",
    "\n",
    "    print(spy_game([1, 2, 4, 0, 0, 7, 5]))\n",
    "    print(spy_game([1, 0, 2, 4, 0, 5, 7]))\n",
    "    print(spy_game([1, 7, 2, 0, 4, 5, 0]))\n",
    "\n",
    "    print(sphere_volume_calculator(5))\n",
    "\n",
    "    word_1 = \"madam\"\n",
    "    word_2 = \"sayat\"\n",
    "    print(palindrome_checker(word_1))\n",
    "    print(palindrome_checker(word_2))\n",
    "\n",
    "    list_of_values = [4, 9, 7]\n",
    "    histogram(list_of_values)\n",
    "\n",
    "    number_guess()"
   ]
  }
 ],
 "metadata": {
  "kernelspec": {
   "display_name": "Python 3",
   "language": "python",
   "name": "python3"
  },
  "language_info": {
   "codemirror_mode": {
    "name": "ipython",
    "version": 3
   },
   "file_extension": ".py",
   "mimetype": "text/x-python",
   "name": "python",
   "nbconvert_exporter": "python",
   "pygments_lexer": "ipython3",
   "version": "3.12.8"
  }
 },
 "nbformat": 4,
 "nbformat_minor": 2
}
